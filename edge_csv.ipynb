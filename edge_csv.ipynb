{
 "cells": [
  {
   "cell_type": "code",
   "execution_count": 7,
   "id": "7ffb68fa",
   "metadata": {},
   "outputs": [],
   "source": [
    "import os\n",
    "import numpy as np\n",
    "import matplotlib.pyplot as plt\n",
    "from utils import load_pickle\n",
    "from constants import ZONING_NAMES, CMAP_ZONING\n",
    "from plot import plot_graph\n",
    "\n",
    "# set data path and child paths\n",
    "datapath = r'/Users/liyang/Downloads/e1d89cb5-6872-48fc-be63-aadd687ee6f9_2_all/modified-swiss-dwellings-v1-train/'\n",
    "\n",
    "path = {\n",
    "    \"full\": datapath,\n",
    "    \"graph_in\": os.path.join(datapath, 'graph_in'),\n",
    "    \"struct_in\": os.path.join(datapath, 'struct_in'),\n",
    "    \"full_out\": os.path.join(datapath, 'full_out'),\n",
    "    \"graph_out\": os.path.join(datapath, 'graph_out')\n",
    "}"
   ]
  },
  {
   "cell_type": "code",
   "execution_count": 9,
   "id": "8aee2e34",
   "metadata": {},
   "outputs": [
    {
     "name": "stdout",
     "output_type": "stream",
     "text": [
      "Data has been saved to edges_data_1.csv\n"
     ]
    }
   ],
   "source": [
    "import pandas as pd\n",
    "import os\n",
    "\n",
    "# Define the input path for graphs\n",
    "graph_in_path = os.path.join(datapath, 'graph_in')\n",
    "\n",
    "# Count the number of files in the directory\n",
    "file_count = len([f for f in os.listdir(graph_in_path) if os.path.isfile(os.path.join(graph_in_path, f))])\n",
    "\n",
    "# Create a list of indices ranging from 0 to 4167 (file_count - 1)\n",
    "file_indices = list(range(file_count))\n",
    "ids = file_indices  # Assume ids is a list containing the ids you want to process\n",
    "\n",
    "data = []  # A list to store the processed data\n",
    "\n",
    "for id in ids:\n",
    "    # Load the graph object from a pickle file\n",
    "    graph = load_pickle(os.path.join(graph_in_path, f'{id}.pickle'))\n",
    "    \n",
    "    for (u, v, d) in graph.edges(data=True):\n",
    "        # Check the connectivity and append the data accordingly\n",
    "        if d[\"connectivity\"] == 'passage':\n",
    "            data.append((id, u, v, 0))\n",
    "            data.append((id, v, u, 0))\n",
    "        if d[\"connectivity\"] == 'door':\n",
    "            data.append((id, u, v, 1))\n",
    "            data.append((id, v, u, 1))\n",
    "        if d[\"connectivity\"] == 'entrance':\n",
    "            data.append((id, u, v, 2))\n",
    "            data.append((id, v, u, 2))\n",
    "\n",
    "# Create a DataFrame from the data\n",
    "df = pd.DataFrame(data, columns=[\"graph_id\", \"src\", \"dst\", \"connectivity\"])\n",
    "\n",
    "# Sort the DataFrame by grade_id, src, and dst\n",
    "df = df.sort_values(by=['graph_id', 'src', 'dst'])\n",
    "\n",
    "# Save the DataFrame to a CSV file\n",
    "csv_filename = \"edges_data_1.csv\"\n",
    "df.to_csv(csv_filename, index=False)\n",
    "\n",
    "print(f\"Data has been saved to {csv_filename}\")\n"
   ]
  },
  {
   "cell_type": "code",
   "execution_count": null,
   "id": "a6a40385",
   "metadata": {},
   "outputs": [],
   "source": []
  },
  {
   "cell_type": "code",
   "execution_count": 4,
   "id": "73207b89",
   "metadata": {},
   "outputs": [
    {
     "data": {
      "text/plain": [
       "EdgeDataView([(0, 4, {'connectivity': 'door'}), (1, 4, {'connectivity': 'door'}), (1, 5, {'connectivity': 'door'}), (2, 4, {'connectivity': 'door'}), (3, 4, {'connectivity': 'door'}), (3, 5, {'connectivity': 'door'}), (4, 6, {'connectivity': 'door'}), (4, 17, {'connectivity': 'entrance'}), (7, 14, {'connectivity': 'door'}), (8, 14, {'connectivity': 'door'}), (9, 14, {'connectivity': 'door'}), (10, 13, {'connectivity': 'door'}), (10, 14, {'connectivity': 'door'}), (11, 14, {'connectivity': 'door'}), (12, 14, {'connectivity': 'door'}), (13, 15, {'connectivity': 'door'}), (14, 15, {'connectivity': 'door'}), (14, 16, {'connectivity': 'door'}), (14, 17, {'connectivity': 'entrance'})])"
      ]
     },
     "execution_count": 4,
     "metadata": {},
     "output_type": "execute_result"
    }
   ],
   "source": [
    "graph = load_pickle(os.path.join(path[\"graph_in\"], f'{0}.pickle'))\n",
    "graph.edges(data =True)"
   ]
  },
  {
   "cell_type": "code",
   "execution_count": null,
   "id": "7b0ca915",
   "metadata": {},
   "outputs": [],
   "source": []
  },
  {
   "cell_type": "code",
   "execution_count": null,
   "id": "a36a15d4",
   "metadata": {},
   "outputs": [],
   "source": []
  },
  {
   "cell_type": "code",
   "execution_count": null,
   "id": "5a41fa2c",
   "metadata": {},
   "outputs": [],
   "source": []
  },
  {
   "cell_type": "code",
   "execution_count": null,
   "id": "e3bbdcc4",
   "metadata": {},
   "outputs": [],
   "source": []
  },
  {
   "cell_type": "code",
   "execution_count": null,
   "id": "746f89ad",
   "metadata": {},
   "outputs": [],
   "source": []
  }
 ],
 "metadata": {
  "kernelspec": {
   "display_name": "Python 3 (ipykernel)",
   "language": "python",
   "name": "python3"
  },
  "language_info": {
   "codemirror_mode": {
    "name": "ipython",
    "version": 3
   },
   "file_extension": ".py",
   "mimetype": "text/x-python",
   "name": "python",
   "nbconvert_exporter": "python",
   "pygments_lexer": "ipython3",
   "version": "3.11.3"
  }
 },
 "nbformat": 4,
 "nbformat_minor": 5
}
