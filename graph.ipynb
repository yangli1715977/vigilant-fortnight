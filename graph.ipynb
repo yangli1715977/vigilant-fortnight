{
 "cells": [
  {
   "cell_type": "code",
   "execution_count": 4,
   "id": "f630a845",
   "metadata": {},
   "outputs": [],
   "source": [
    "import os\n",
    "import numpy as np\n",
    "import matplotlib.pyplot as plt\n",
    "from utils import load_pickle\n",
    "from constants import ZONING_NAMES, CMAP_ZONING\n",
    "from plot import plot_graph\n",
    "\n",
    "# set data path and child paths\n",
    "datapath = r'/Users/liyang/Downloads/e1d89cb5-6872-48fc-be63-aadd687ee6f9_2_all/modified-swiss-dwellings-v1-train/'\n",
    "\n",
    "path = {\n",
    "    \"full\": datapath,\n",
    "    \"graph_in\": os.path.join(datapath, 'graph_in'),\n",
    "    \"struct_in\": os.path.join(datapath, 'struct_in'),\n",
    "    \"full_out\": os.path.join(datapath, 'full_out'),\n",
    "    \"graph_out\": os.path.join(datapath, 'graph_out')\n",
    "}"
   ]
  },
  {
   "cell_type": "code",
   "execution_count": 5,
   "id": "c58c4d9a",
   "metadata": {},
   "outputs": [
    {
     "name": "stdout",
     "output_type": "stream",
     "text": [
      "Data has been saved to graphs_data.csv\n"
     ]
    }
   ],
   "source": [
    "import pandas as pd\n",
    "\n",
    "graph_in_path = os.path.join(datapath, 'graph_in')\n",
    "\n",
    "\n",
    "file_count = len([f for f in os.listdir(graph_in_path) if os.path.isfile(os.path.join(graph_in_path, f))])\n",
    "\n",
    "\n",
    "file_indices = list(range(file_count))\n",
    "#print(file_indices)\n",
    "ids = file_indices\n",
    "\n",
    "\n",
    "\n",
    "data = [] \n",
    "\n",
    "for id in ids:\n",
    "    graph = load_pickle(os.path.join(path[\"graph_in\"], f'{id}.pickle'))\n",
    "    data.append((id,len(graph.nodes)))\n",
    "        \n",
    "\n",
    "\n",
    "df = pd.DataFrame(data, columns=[\"graph_id\", \"num_nodes\"])\n",
    "\n",
    "\n",
    "\n",
    "csv_filename = \"graphs_data.csv\"\n",
    "df.to_csv(csv_filename, index=False)\n",
    "\n",
    "print(f\"Data has been saved to {csv_filename}\")\n",
    "\n"
   ]
  },
  {
   "cell_type": "code",
   "execution_count": null,
   "id": "e032900c",
   "metadata": {},
   "outputs": [],
   "source": []
  },
  {
   "cell_type": "code",
   "execution_count": null,
   "id": "f1cc7746",
   "metadata": {},
   "outputs": [],
   "source": []
  },
  {
   "cell_type": "code",
   "execution_count": null,
   "id": "a2a4ddec",
   "metadata": {},
   "outputs": [],
   "source": []
  }
 ],
 "metadata": {
  "kernelspec": {
   "display_name": "Python 3 (ipykernel)",
   "language": "python",
   "name": "python3"
  },
  "language_info": {
   "codemirror_mode": {
    "name": "ipython",
    "version": 3
   },
   "file_extension": ".py",
   "mimetype": "text/x-python",
   "name": "python",
   "nbconvert_exporter": "python",
   "pygments_lexer": "ipython3",
   "version": "3.11.3"
  }
 },
 "nbformat": 4,
 "nbformat_minor": 5
}
