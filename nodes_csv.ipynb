{
 "cells": [
  {
   "cell_type": "code",
   "execution_count": 4,
   "id": "94800b77",
   "metadata": {},
   "outputs": [],
   "source": [
    "import os\n",
    "import numpy as np\n",
    "import matplotlib.pyplot as plt\n",
    "from utils import load_pickle\n",
    "from constants import ZONING_NAMES, CMAP_ZONING\n",
    "from plot import plot_graph\n",
    "\n",
    "# set data path and child paths\n",
    "datapath = r'/Users/liyang/Downloads/e1d89cb5-6872-48fc-be63-aadd687ee6f9_2_all/modified-swiss-dwellings-v1-train/'\n",
    "\n",
    "path = {\n",
    "    \"full\": datapath,\n",
    "    \"graph_in\": os.path.join(datapath, 'graph_in'),\n",
    "    \"struct_in\": os.path.join(datapath, 'struct_in'),\n",
    "    \"full_out\": os.path.join(datapath, 'full_out'),\n",
    "    \"graph_out\": os.path.join(datapath, 'graph_out')\n",
    "}"
   ]
  },
  {
   "cell_type": "code",
   "execution_count": 3,
   "id": "20a62c35",
   "metadata": {},
   "outputs": [
    {
     "name": "stdout",
     "output_type": "stream",
     "text": [
      "Data has been saved to nodes_data_1.csv\n"
     ]
    }
   ],
   "source": [
    "import pandas as pd\n",
    "\n",
    "# Define the path to the 'graph_in' directory\n",
    "graph_in_path = os.path.join(datapath, 'graph_in')\n",
    "\n",
    "# Count the number of files in the directory\n",
    "file_count = len([f for f in os.listdir(graph_in_path) if os.path.isfile(os.path.join(graph_in_path, f))])\n",
    "\n",
    "# Create an array containing numbers from 0 to 4167\n",
    "file_indices = list(range(file_count))\n",
    "\n",
    "ids = file_indices\n",
    "\n",
    "data = []  # Used to store processed data\n",
    "\n",
    "for id in ids:\n",
    "    # Load 'graph_out' and 'graph_in' using pickle\n",
    "    graph_out = load_pickle(os.path.join(path[\"graph_out\"], f'{id}.pickle'))\n",
    "    graph_in = load_pickle(os.path.join(path[\"graph_in\"], f'{id}.pickle'))\n",
    "    \n",
    "    # Iterate over nodes in 'graph_out'\n",
    "    for node in graph_out.nodes: \n",
    "        \n",
    "        # Append data to the 'data' list\n",
    "        data.append((id, node, graph_out.nodes('room_type')[node], graph_in.nodes('zoning_type')[node]))\n",
    "        \n",
    "# Create a DataFrame from the collected data\n",
    "df = pd.DataFrame(data, columns=[\"graph_id\", \"node_id\", \"room_type\", \"zoning_type\"])\n",
    "\n",
    "# Save the DataFrame to a CSV file\n",
    "csv_filename = \"nodes_data_1.csv\"\n",
    "df.to_csv(csv_filename, index=False)\n",
    "\n",
    "print(f\"Data has been saved to {csv_filename}\")\n"
   ]
  },
  {
   "cell_type": "code",
   "execution_count": null,
   "id": "4c70cf8b",
   "metadata": {},
   "outputs": [],
   "source": []
  },
  {
   "cell_type": "code",
   "execution_count": null,
   "id": "d5b1e924",
   "metadata": {},
   "outputs": [],
   "source": []
  },
  {
   "cell_type": "code",
   "execution_count": null,
   "id": "3a7c976b",
   "metadata": {},
   "outputs": [],
   "source": []
  },
  {
   "cell_type": "code",
   "execution_count": null,
   "id": "28d1821b",
   "metadata": {},
   "outputs": [],
   "source": []
  },
  {
   "cell_type": "code",
   "execution_count": null,
   "id": "17fa318b",
   "metadata": {},
   "outputs": [],
   "source": []
  },
  {
   "cell_type": "code",
   "execution_count": null,
   "id": "cedf6e59",
   "metadata": {},
   "outputs": [],
   "source": []
  },
  {
   "cell_type": "code",
   "execution_count": null,
   "id": "bb353c9e",
   "metadata": {},
   "outputs": [],
   "source": []
  },
  {
   "cell_type": "code",
   "execution_count": null,
   "id": "c146bf51",
   "metadata": {},
   "outputs": [],
   "source": []
  },
  {
   "cell_type": "code",
   "execution_count": null,
   "id": "804d9edf",
   "metadata": {},
   "outputs": [],
   "source": []
  },
  {
   "cell_type": "code",
   "execution_count": null,
   "id": "3351b0a9",
   "metadata": {},
   "outputs": [],
   "source": []
  },
  {
   "cell_type": "code",
   "execution_count": null,
   "id": "620e755c",
   "metadata": {},
   "outputs": [],
   "source": []
  },
  {
   "cell_type": "code",
   "execution_count": null,
   "id": "33bb2b4a",
   "metadata": {},
   "outputs": [],
   "source": []
  },
  {
   "cell_type": "code",
   "execution_count": null,
   "id": "696a9087",
   "metadata": {},
   "outputs": [],
   "source": []
  },
  {
   "cell_type": "code",
   "execution_count": null,
   "id": "d1481037",
   "metadata": {},
   "outputs": [],
   "source": []
  },
  {
   "cell_type": "code",
   "execution_count": null,
   "id": "073a7c54",
   "metadata": {},
   "outputs": [],
   "source": []
  },
  {
   "cell_type": "code",
   "execution_count": null,
   "id": "c4804179",
   "metadata": {},
   "outputs": [],
   "source": []
  }
 ],
 "metadata": {
  "kernelspec": {
   "display_name": "Python 3 (ipykernel)",
   "language": "python",
   "name": "python3"
  },
  "language_info": {
   "codemirror_mode": {
    "name": "ipython",
    "version": 3
   },
   "file_extension": ".py",
   "mimetype": "text/x-python",
   "name": "python",
   "nbconvert_exporter": "python",
   "pygments_lexer": "ipython3",
   "version": "3.11.3"
  }
 },
 "nbformat": 4,
 "nbformat_minor": 5
}
